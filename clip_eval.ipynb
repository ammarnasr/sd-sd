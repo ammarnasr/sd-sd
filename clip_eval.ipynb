{
 "cells": [
  {
   "cell_type": "code",
   "execution_count": null,
   "metadata": {},
   "outputs": [],
   "source": [
    "import torch\n",
    "import clip\n",
    "from transformers import AutoTokenizer\n",
    "from multilingual_clip import pt_multilingual_clip\n",
    "from PIL import Image\n",
    "import requests\n",
    "import torch.nn as nn\n",
    "import numpy as np\n",
    "import matplotlib.pyplot as plt\n",
    "\n",
    "def display_img(image):\n",
    "    plt.imshow(image)\n",
    "    plt.axis('off')\n",
    "    plt.show()\n",
    "\n",
    "def score(image_features, text_features):\n",
    "    # logit_scale = nn.Parameter(torch.ones([]) * np.log(1 / 0.07))\n",
    "    # logit_scale = logit_scale.exp()\n",
    "    logit_scale = 100\n",
    "    # normalized features\n",
    "    image_features = image_features / image_features.norm(dim=1, keepdim=True)\n",
    "    text_features = text_features / text_features.norm(dim=1, keepdim=True)\n",
    "    image_features = image_features.type(torch.float32)\n",
    "    text_features = text_features.type(torch.float32)\n",
    "\n",
    "    # cosine similarity as logits\n",
    "    logits_per_image = logit_scale * image_features @ text_features.t()\n",
    "    logits_per_text = logits_per_image.t()\n",
    "\n",
    "    return logits_per_image, logits_per_text\n"
   ]
  },
  {
   "cell_type": "code",
   "execution_count": null,
   "metadata": {},
   "outputs": [],
   "source": [
    "device = \"cuda\" if torch.cuda.is_available() else \"cpu\"\n",
    "\n",
    "model_name = \"ViT-L/14\"\n",
    "print(f'Loading ClIP Model {model_name} ...')\n",
    "model, preprocess = clip.load(model_name, device=device)\n",
    "\n",
    "model_name_multilingual = 'M-CLIP/LABSE-Vit-L-14'\n",
    "print(f'Loading Multilingual ClIP Model {model_name_multilingual} ...')\n",
    "model_multilingual = pt_multilingual_clip.MultilingualCLIP.from_pretrained(model_name_multilingual)\n",
    "tokenizer = AutoTokenizer.from_pretrained(model_name_multilingual)\n"
   ]
  },
  {
   "cell_type": "code",
   "execution_count": null,
   "metadata": {},
   "outputs": [],
   "source": [
    "# Get the images\n",
    "cat_url = \"http://images.cocodataset.org/val2017/000000039769.jpg\"\n",
    "dog_url = \"https://farm6.staticflickr.com/5119/7204468584_6eed877236_z.jpg\"\n",
    "\n",
    "cat_image = Image.open(requests.get(cat_url, stream=True).raw)\n",
    "dog_image = Image.open(requests.get(dog_url, stream=True).raw)\n",
    "images = [cat_image, dog_image]\n",
    "# Set the captions in English and Arabic\n",
    "captions = [\"a photo of a cat\", \"a photo of a dog\", \"صورة قطة\", \"صورة كلب\"]\n",
    "\n",
    "# Preporcess the image and get the image embedding from CLIP\n",
    "processed_images = []\n",
    "for image in images:\n",
    "    img = preprocess(image).unsqueeze(0).to(device)\n",
    "    processed_images.append(img)\n",
    "img = torch.cat(processed_images)\n",
    "img_features = model.encode_image(img)\n",
    "\n",
    "# Tokenize the captions and get the text embedding from CLIP\n",
    "text = clip.tokenize(captions).to(device)\n",
    "text_features = model.encode_text(text)\n",
    "\n",
    "# Tokenize the captions and get the text embedding from Multilingual-CLIP\n",
    "text_features_multilingual = model_multilingual.forward(captions, tokenizer).to(device)\n",
    "\n",
    "# Get the similarity score between the image and the text from CLIP\n",
    "logits_per_image, logits_per_text = score(img_features, text_features)\n",
    "probs = logits_per_image.softmax(dim=-1).cpu().detach().numpy()\n",
    "\n",
    "# Get the similarity score between the image and the text from Multilingual-CLIP\n",
    "logits_per_image_multilingual, logits_per_text_multilingual = score(img_features, text_features_multilingual)\n",
    "probs_multilingual = logits_per_image_multilingual.softmax(dim=-1).cpu().detach().numpy()\n",
    "\n",
    "# Display the images and the captions with the similarity score from CLIP and Multilingual-CLIP  \n",
    "for i in range(len(images)):\n",
    "    print(\"Image: \", i+1)\n",
    "    display(images[i])\n",
    "    for j in range(len(captions)):\n",
    "        print(\"Caption: \", captions[j])\n",
    "        print(f\"CLIP: {probs[i][j] * 100:.2f}%\")\n",
    "        print(f\"Multilingual-CLIP: {probs_multilingual[i][j] * 100:.2f}%\")\n",
    "        print(\"\")\n"
   ]
  },
  {
   "cell_type": "code",
   "execution_count": null,
   "metadata": {},
   "outputs": [],
   "source": []
  },
  {
   "cell_type": "code",
   "execution_count": null,
   "metadata": {},
   "outputs": [],
   "source": []
  }
 ],
 "metadata": {
  "kernelspec": {
   "display_name": "amazon",
   "language": "python",
   "name": "python3"
  },
  "language_info": {
   "codemirror_mode": {
    "name": "ipython",
    "version": 3
   },
   "file_extension": ".py",
   "mimetype": "text/x-python",
   "name": "python",
   "nbconvert_exporter": "python",
   "pygments_lexer": "ipython3",
   "version": "3.9.16"
  },
  "orig_nbformat": 4
 },
 "nbformat": 4,
 "nbformat_minor": 2
}
