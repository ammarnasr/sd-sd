{
 "cells": [
  {
   "cell_type": "code",
   "execution_count": 1,
   "metadata": {},
   "outputs": [
    {
     "name": "stdout",
     "output_type": "stream",
     "text": [
      "Warning: batch size is bigger than the data size. Setting batch size to data size\n"
     ]
    },
    {
     "name": "stderr",
     "output_type": "stream",
     "text": [
      "c:\\Users\\Edin\\anaconda3\\envs\\amazon\\lib\\site-packages\\torchvision\\io\\image.py:13: UserWarning: Failed to load image Python extension: [WinError 127] The specified procedure could not be found\n",
      "  warn(f\"Failed to load image Python extension: {e}\")\n",
      "\n",
      "  0%|          | 0/1 [00:00<?, ?it/s]c:\\Users\\Edin\\anaconda3\\envs\\amazon\\lib\\site-packages\\torchvision\\io\\image.py:13: UserWarning: Failed to load image Python extension: [WinError 127] The specified procedure could not be found\n",
      "  warn(f\"Failed to load image Python extension: {e}\")\n",
      "c:\\Users\\Edin\\anaconda3\\envs\\amazon\\lib\\site-packages\\torchvision\\io\\image.py:13: UserWarning: Failed to load image Python extension: [WinError 127] The specified procedure could not be found\n",
      "  warn(f\"Failed to load image Python extension: {e}\")\n",
      "c:\\Users\\Edin\\anaconda3\\envs\\amazon\\lib\\site-packages\\torchvision\\io\\image.py:13: UserWarning: Failed to load image Python extension: [WinError 127] The specified procedure could not be found\n",
      "  warn(f\"Failed to load image Python extension: {e}\")\n",
      "c:\\Users\\Edin\\anaconda3\\envs\\amazon\\lib\\site-packages\\torchvision\\io\\image.py:13: UserWarning: Failed to load image Python extension: [WinError 127] The specified procedure could not be found\n",
      "  warn(f\"Failed to load image Python extension: {e}\")\n",
      "c:\\Users\\Edin\\anaconda3\\envs\\amazon\\lib\\site-packages\\torchvision\\io\\image.py:13: UserWarning: Failed to load image Python extension: [WinError 127] The specified procedure could not be found\n",
      "  warn(f\"Failed to load image Python extension: {e}\")\n",
      "c:\\Users\\Edin\\anaconda3\\envs\\amazon\\lib\\site-packages\\torchvision\\io\\image.py:13: UserWarning: Failed to load image Python extension: [WinError 127] The specified procedure could not be found\n",
      "  warn(f\"Failed to load image Python extension: {e}\")\n",
      "c:\\Users\\Edin\\anaconda3\\envs\\amazon\\lib\\site-packages\\torchvision\\io\\image.py:13: UserWarning: Failed to load image Python extension: [WinError 127] The specified procedure could not be found\n",
      "  warn(f\"Failed to load image Python extension: {e}\")\n",
      "c:\\Users\\Edin\\anaconda3\\envs\\amazon\\lib\\site-packages\\torchvision\\io\\image.py:13: UserWarning: Failed to load image Python extension: [WinError 127] The specified procedure could not be found\n",
      "  warn(f\"Failed to load image Python extension: {e}\")\n",
      "\n",
      "  0%|          | 0/1 [00:05<?, ?it/s]\n",
      "Traceback (most recent call last):\n",
      "  File \"c:\\Users\\Edin\\anaconda3\\envs\\amazon\\lib\\runpy.py\", line 197, in _run_module_as_main\n",
      "    return _run_code(code, main_globals, None,\n",
      "  File \"c:\\Users\\Edin\\anaconda3\\envs\\amazon\\lib\\runpy.py\", line 87, in _run_code\n",
      "    exec(code, run_globals)\n",
      "  File \"c:\\Users\\Edin\\anaconda3\\envs\\amazon\\lib\\site-packages\\pytorch_fid\\__main__.py\", line 3, in <module>\n",
      "    pytorch_fid.fid_score.main()\n",
      "  File \"c:\\Users\\Edin\\anaconda3\\envs\\amazon\\lib\\site-packages\\pytorch_fid\\fid_score.py\", line 313, in main\n",
      "    fid_value = calculate_fid_given_paths(args.path,\n",
      "  File \"c:\\Users\\Edin\\anaconda3\\envs\\amazon\\lib\\site-packages\\pytorch_fid\\fid_score.py\", line 259, in calculate_fid_given_paths\n",
      "    m1, s1 = compute_statistics_of_path(paths[0], model, batch_size,\n",
      "  File \"c:\\Users\\Edin\\anaconda3\\envs\\amazon\\lib\\site-packages\\pytorch_fid\\fid_score.py\", line 243, in compute_statistics_of_path\n",
      "    m, s = calculate_activation_statistics(files, model, batch_size,\n",
      "  File \"c:\\Users\\Edin\\anaconda3\\envs\\amazon\\lib\\site-packages\\pytorch_fid\\fid_score.py\", line 228, in calculate_activation_statistics\n",
      "    act = get_activations(files, model, batch_size, dims, device, num_workers)\n",
      "  File \"c:\\Users\\Edin\\anaconda3\\envs\\amazon\\lib\\site-packages\\pytorch_fid\\fid_score.py\", line 132, in get_activations\n",
      "    for batch in tqdm(dataloader):\n",
      "  File \"c:\\Users\\Edin\\anaconda3\\envs\\amazon\\lib\\site-packages\\tqdm\\std.py\", line 1178, in __iter__\n",
      "    for obj in iterable:\n",
      "  File \"c:\\Users\\Edin\\anaconda3\\envs\\amazon\\lib\\site-packages\\torch\\utils\\data\\dataloader.py\", line 634, in __next__\n",
      "    data = self._next_data()\n",
      "  File \"c:\\Users\\Edin\\anaconda3\\envs\\amazon\\lib\\site-packages\\torch\\utils\\data\\dataloader.py\", line 1346, in _next_data\n",
      "    return self._process_data(data)\n",
      "  File \"c:\\Users\\Edin\\anaconda3\\envs\\amazon\\lib\\site-packages\\torch\\utils\\data\\dataloader.py\", line 1372, in _process_data\n",
      "    data.reraise()\n",
      "  File \"c:\\Users\\Edin\\anaconda3\\envs\\amazon\\lib\\site-packages\\torch\\_utils.py\", line 644, in reraise\n",
      "    raise exception\n",
      "RuntimeError: Caught RuntimeError in DataLoader worker process 0.\n",
      "Original Traceback (most recent call last):\n",
      "  File \"c:\\Users\\Edin\\anaconda3\\envs\\amazon\\lib\\site-packages\\torch\\utils\\data\\_utils\\worker.py\", line 308, in _worker_loop\n",
      "    data = fetcher.fetch(index)\n",
      "  File \"c:\\Users\\Edin\\anaconda3\\envs\\amazon\\lib\\site-packages\\torch\\utils\\data\\_utils\\fetch.py\", line 54, in fetch\n",
      "    return self.collate_fn(data)\n",
      "  File \"c:\\Users\\Edin\\anaconda3\\envs\\amazon\\lib\\site-packages\\torch\\utils\\data\\_utils\\collate.py\", line 264, in default_collate\n",
      "    return collate(batch, collate_fn_map=default_collate_fn_map)\n",
      "  File \"c:\\Users\\Edin\\anaconda3\\envs\\amazon\\lib\\site-packages\\torch\\utils\\data\\_utils\\collate.py\", line 119, in collate\n",
      "    return collate_fn_map[elem_type](batch, collate_fn_map=collate_fn_map)\n",
      "  File \"c:\\Users\\Edin\\anaconda3\\envs\\amazon\\lib\\site-packages\\torch\\utils\\data\\_utils\\collate.py\", line 161, in collate_tensor_fn\n",
      "    out = elem.new(storage).resize_(len(batch), *list(elem.size()))\n",
      "RuntimeError: Trying to resize storage that is not resizable\n",
      "\n"
     ]
    }
   ],
   "source": [
    "!python -m pytorch_fid true_imgs fake_imgs --device cuda"
   ]
  },
  {
   "cell_type": "code",
   "execution_count": null,
   "metadata": {},
   "outputs": [],
   "source": []
  }
 ],
 "metadata": {
  "kernelspec": {
   "display_name": "amazon",
   "language": "python",
   "name": "python3"
  },
  "language_info": {
   "codemirror_mode": {
    "name": "ipython",
    "version": 3
   },
   "file_extension": ".py",
   "mimetype": "text/x-python",
   "name": "python",
   "nbconvert_exporter": "python",
   "pygments_lexer": "ipython3",
   "version": "3.9.16"
  },
  "orig_nbformat": 4
 },
 "nbformat": 4,
 "nbformat_minor": 2
}
