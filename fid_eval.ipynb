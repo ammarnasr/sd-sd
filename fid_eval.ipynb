{
 "cells": [
  {
   "cell_type": "code",
   "execution_count": 1,
   "metadata": {},
   "outputs": [
    {
     "name": "stderr",
     "output_type": "stream",
     "text": [
      "c:\\Users\\Edin\\anaconda3\\envs\\amazon\\lib\\site-packages\\torchvision\\io\\image.py:13: UserWarning: Failed to load image Python extension: [WinError 127] The specified procedure could not be found\n",
      "  warn(f\"Failed to load image Python extension: {e}\")\n"
     ]
    },
    {
     "name": "stdout",
     "output_type": "stream",
     "text": [
      "Calculating stats...\n"
     ]
    },
    {
     "data": {
      "application/vnd.jupyter.widget-view+json": {
       "model_id": "694937fe064b4cbeb0ec9d477335cd21",
       "version_major": 2,
       "version_minor": 0
      },
      "text/plain": [
       "  0%|          | 0/2 [00:00<?, ?it/s]"
      ]
     },
     "metadata": {},
     "output_type": "display_data"
    },
    {
     "data": {
      "application/vnd.jupyter.widget-view+json": {
       "model_id": "a93b77f3415f47daaa3f173e54a30968",
       "version_major": 2,
       "version_minor": 0
      },
      "text/plain": [
       "  0%|          | 0/2 [00:00<?, ?it/s]"
      ]
     },
     "metadata": {},
     "output_type": "display_data"
    },
    {
     "name": "stdout",
     "output_type": "stream",
     "text": [
      "FID: -0.00108 -> Paths : ['true_imgs/', 'true_imgs/'] \n",
      "\n",
      "Calculating stats...\n"
     ]
    },
    {
     "data": {
      "application/vnd.jupyter.widget-view+json": {
       "model_id": "0272eb534d894803b6c59a515a88aded",
       "version_major": 2,
       "version_minor": 0
      },
      "text/plain": [
       "  0%|          | 0/2 [00:00<?, ?it/s]"
      ]
     },
     "metadata": {},
     "output_type": "display_data"
    },
    {
     "data": {
      "application/vnd.jupyter.widget-view+json": {
       "model_id": "bd61b2964b974f929b40db761c582fec",
       "version_major": 2,
       "version_minor": 0
      },
      "text/plain": [
       "  0%|          | 0/2 [00:00<?, ?it/s]"
      ]
     },
     "metadata": {},
     "output_type": "display_data"
    },
    {
     "name": "stdout",
     "output_type": "stream",
     "text": [
      "FID: 348.91823 -> Paths : ['true_imgs/', 'fake_imgs/'] \n",
      "\n",
      "Calculating stats...\n"
     ]
    },
    {
     "data": {
      "application/vnd.jupyter.widget-view+json": {
       "model_id": "4931a8acf7f0442aa5ed32bd2fcceb3a",
       "version_major": 2,
       "version_minor": 0
      },
      "text/plain": [
       "  0%|          | 0/2 [00:00<?, ?it/s]"
      ]
     },
     "metadata": {},
     "output_type": "display_data"
    },
    {
     "data": {
      "application/vnd.jupyter.widget-view+json": {
       "model_id": "c28ab778d10c453ca179b613383524f4",
       "version_major": 2,
       "version_minor": 0
      },
      "text/plain": [
       "  0%|          | 0/2 [00:00<?, ?it/s]"
      ]
     },
     "metadata": {},
     "output_type": "display_data"
    },
    {
     "name": "stdout",
     "output_type": "stream",
     "text": [
      "FID: 542.64356 -> Paths : ['true_imgs/', 'fake_imgs_2/'] \n",
      "\n"
     ]
    }
   ],
   "source": [
    "from fid import calculate_fid_given_paths  \n",
    "\n",
    "#Crshes when batch_size >= number of images in folder\n",
    "batch_size = 1\n",
    "dims = 2048\n",
    "device = 'cuda'\n",
    "num_workers = 1\n",
    "paths = ['true_imgs/', 'true_imgs/']\n",
    "fid_value = calculate_fid_given_paths(paths, batch_size, device, dims, num_workers)\n",
    "print(f'FID: {fid_value :.5f} -> Paths : {paths} \\n')\n",
    "\n",
    "paths = ['true_imgs/', 'fake_imgs/']\n",
    "fid_value = calculate_fid_given_paths(paths, batch_size, device, dims, num_workers)\n",
    "print(f'FID: {fid_value :.5f} -> Paths : {paths} \\n')\n",
    "\n",
    "paths = ['true_imgs/', 'fake_imgs_2/']\n",
    "fid_value = calculate_fid_given_paths(paths, batch_size, device, dims, num_workers)\n",
    "print(f'FID: {fid_value :.5f} -> Paths : {paths} \\n')\n",
    "\n",
    "\n",
    "\n"
   ]
  },
  {
   "cell_type": "code",
   "execution_count": null,
   "metadata": {},
   "outputs": [],
   "source": []
  }
 ],
 "metadata": {
  "kernelspec": {
   "display_name": "amazon",
   "language": "python",
   "name": "python3"
  },
  "language_info": {
   "codemirror_mode": {
    "name": "ipython",
    "version": 3
   },
   "file_extension": ".py",
   "mimetype": "text/x-python",
   "name": "python",
   "nbconvert_exporter": "python",
   "pygments_lexer": "ipython3",
   "version": "3.9.16"
  },
  "orig_nbformat": 4
 },
 "nbformat": 4,
 "nbformat_minor": 2
}
